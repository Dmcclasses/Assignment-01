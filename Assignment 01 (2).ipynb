{
 "cells": [
  {
   "cell_type": "code",
   "execution_count": 2,
   "id": "0945a5c8-b7c3-49f8-92af-d2a39bd938ad",
   "metadata": {},
   "outputs": [],
   "source": [
    "#Python Basics Questions:-"
   ]
  },
  {
   "cell_type": "raw",
   "id": "4087b4f1-666d-40b9-93f9-7269f8cbe432",
   "metadata": {},
   "source": []
  },
  {
   "cell_type": "code",
   "execution_count": null,
   "id": "87db7931-9924-44b6-aabc-edfbf787d43f",
   "metadata": {},
   "outputs": [],
   "source": []
  },
  {
   "cell_type": "code",
   "execution_count": 4,
   "id": "c04f36cb-0026-4d61-9e2a-0c05459ba7e5",
   "metadata": {},
   "outputs": [],
   "source": [
    "#Practical Questions:-"
   ]
  },
  {
   "cell_type": "code",
   "execution_count": 6,
   "id": "3525def7-72d6-45f2-ad87-576f2d945b84",
   "metadata": {},
   "outputs": [
    {
     "name": "stdout",
     "output_type": "stream",
     "text": [
      "Hello World!\n"
     ]
    }
   ],
   "source": [
    "#Q 1. Write a Python program to print \"Hello, World!\"\n",
    "print(\"Hello World!\")"
   ]
  },
  {
   "cell_type": "code",
   "execution_count": 10,
   "id": "1a7d8c95-44f0-4be0-a8ac-c5615631e02b",
   "metadata": {},
   "outputs": [
    {
     "name": "stdout",
     "output_type": "stream",
     "text": [
      "My name is Mohit Adhikari\n",
      "I am 24 years old\n"
     ]
    }
   ],
   "source": [
    "#Q 2. Write a Python program that displays your name and age.\n",
    "name = \"Mohit Adhikari\"\n",
    "age = 24\n",
    "print(\"My name is\", name)\n",
    "print(\"I am\" , age , \"years old\")"
   ]
  },
  {
   "cell_type": "code",
   "execution_count": 16,
   "id": "bbd7b561-5014-40b2-8d2d-109afafa008a",
   "metadata": {},
   "outputs": [
    {
     "name": "stdout",
     "output_type": "stream",
     "text": [
      "\n",
      "Here is a list of the Python keywords.  Enter any keyword to get more help.\n",
      "\n",
      "False               class               from                or\n",
      "None                continue            global              pass\n",
      "True                def                 if                  raise\n",
      "and                 del                 import              return\n",
      "as                  elif                in                  try\n",
      "assert              else                is                  while\n",
      "async               except              lambda              with\n",
      "await               finally             nonlocal            yield\n",
      "break               for                 not                 \n",
      "\n"
     ]
    }
   ],
   "source": [
    "#Q 3. Write code to print all the pre-defined keywords in Python using the keyword library.\n",
    "help(\"keywords\")"
   ]
  },
  {
   "cell_type": "code",
   "execution_count": 55,
   "id": "d9dc07c2-cea8-4105-bb75-3491373c9dc5",
   "metadata": {},
   "outputs": [
    {
     "name": "stdin",
     "output_type": "stream",
     "text": [
      " Enter a word:  Karan\n"
     ]
    },
    {
     "name": "stdout",
     "output_type": "stream",
     "text": [
      "'Karan' is not a Python keyword.\n"
     ]
    }
   ],
   "source": [
    "#Q 4. Write a program that checks if a given word is a Python keyword.\n",
    "import keyword\n",
    "word = input(\" Enter a word: \")\n",
    "if keyword.iskeyword(word):\n",
    "    print(f\"'{word}' is a Python keyword.\")\n",
    "else:\n",
    "    print (f\"'{word}' is not a Python keyword.\")"
   ]
  },
  {
   "cell_type": "code",
   "execution_count": 24,
   "id": "2d61390d-b65c-46d3-b6c0-48de33417d21",
   "metadata": {},
   "outputs": [
    {
     "name": "stdout",
     "output_type": "stream",
     "text": [
      "[1, 2, 4, 'Mohit', 'Naman']\n"
     ]
    }
   ],
   "source": [
    "#Q 5. Create a list and tuple in Python, and demonstrate how attempting to change an element works differently for each.\n",
    "#creating lsit\n",
    "list =  [1,2,4, \"Mohit\" , \"Naman\"]\n",
    "print (list)"
   ]
  },
  {
   "cell_type": "code",
   "execution_count": 30,
   "id": "52753297-4b74-4242-a30c-1def5b0b1421",
   "metadata": {},
   "outputs": [
    {
     "name": "stdout",
     "output_type": "stream",
     "text": [
      "[1, 2, 4, 'Mohit', 'Mohini']\n"
     ]
    }
   ],
   "source": [
    "list[4] = \"Mohini\"\n",
    "print(list)"
   ]
  },
  {
   "cell_type": "code",
   "execution_count": 36,
   "id": "fc64ffef-94fd-4505-9398-daa90ee20563",
   "metadata": {},
   "outputs": [
    {
     "name": "stdout",
     "output_type": "stream",
     "text": [
      "(1, 3, 6, 'Mohit', 'Naman')\n"
     ]
    }
   ],
   "source": [
    "#creating tuple :\n",
    "tuple = (1,3,6, \"Mohit\" , \"Naman\")\n",
    "print(tuple)"
   ]
  },
  {
   "cell_type": "code",
   "execution_count": 42,
   "id": "24100e6f-e643-4c08-aa5d-5d2fefba440b",
   "metadata": {},
   "outputs": [
    {
     "ename": "TypeError",
     "evalue": "'tuple' object does not support item assignment",
     "output_type": "error",
     "traceback": [
      "\u001b[1;31m---------------------------------------------------------------------------\u001b[0m",
      "\u001b[1;31mTypeError\u001b[0m                                 Traceback (most recent call last)",
      "Cell \u001b[1;32mIn[42], line 1\u001b[0m\n\u001b[1;32m----> 1\u001b[0m \u001b[38;5;28mtuple\u001b[39m [\u001b[38;5;241m4\u001b[39m] \u001b[38;5;241m=\u001b[39m \u001b[38;5;124m\"\u001b[39m\u001b[38;5;124mMohini\u001b[39m\u001b[38;5;124m\"\u001b[39m\n\u001b[0;32m      2\u001b[0m \u001b[38;5;28mprint\u001b[39m(\u001b[38;5;28mtuple\u001b[39m)\n",
      "\u001b[1;31mTypeError\u001b[0m: 'tuple' object does not support item assignment"
     ]
    }
   ],
   "source": [
    "tuple [4] = \"Mohini\"\n",
    "print(tuple)"
   ]
  },
  {
   "cell_type": "code",
   "execution_count": 17,
   "id": "0af8cb14-7d02-453c-864b-03f360e37b0b",
   "metadata": {},
   "outputs": [
    {
     "name": "stdout",
     "output_type": "stream",
     "text": [
      "Inside function: 6\n",
      "Outside function: 5\n",
      "Inside function: [1, 2, 3, 4]\n",
      "Outside function: [1, 2, 3, 4]\n"
     ]
    }
   ],
   "source": [
    "#Q 6. Write a function to demonstrate the behavior of mutable and immutable arguments.\n",
    "def number(n):\n",
    "    n = n + 1\n",
    "    print(\"Inside function:\", n)\n",
    "\n",
    "def list(lst):\n",
    "    lst.append(4)\n",
    "    print(\"Inside function:\", lst)\n",
    "\n",
    "# Immutable (integer)\n",
    "num = 5\n",
    "number(num)\n",
    "print(\"Outside function:\", num)\n",
    "\n",
    "# Mutable (list)\n",
    "my_list = [1, 2, 3]\n",
    "list(my_list)\n",
    "print(\"Outside function:\", my_list)"
   ]
  },
  {
   "cell_type": "code",
   "execution_count": 46,
   "id": "d5e295ee-0dd2-495a-872d-dd2e61ea0e94",
   "metadata": {},
   "outputs": [],
   "source": [
    "#Q 7. Write a function to demonstrate the behavior of mutable and immutable arguments.\n",
    "ef number(n):\n",
    "    n = n + 1\n",
    "    print(\"Inside function:\", n)\n",
    "\n",
    "def list(lst):\n",
    "    lst.append(4)\n",
    "    print(\"Inside function:\", lst)\n",
    "\n",
    "# Immutable (integer)\n",
    "num = 5\n",
    "number(num)\n",
    "print(\"Outside function:\", num)\n",
    "\n",
    "# Mutable (list)\n",
    "my_list = [1, 2, 3]\n",
    "list(my_list)\n",
    "print(\"Outside function:\", my_list)"
   ]
  },
  {
   "cell_type": "code",
   "execution_count": 78,
   "id": "316ff770-5087-4918-a88b-1644a8a9a4b3",
   "metadata": {},
   "outputs": [
    {
     "name": "stdin",
     "output_type": "stream",
     "text": [
      "Enter your age:  24\n",
      "Do you have a driving license? (yes/no):  yes\n"
     ]
    },
    {
     "name": "stdout",
     "output_type": "stream",
     "text": [
      "You are eligible to drive.\n"
     ]
    }
   ],
   "source": [
    "#Q 8. Write a program to demonstrate the use of logical operators.\n",
    "age = int(input(\"Enter your age: \"))\n",
    "has_license = input(\"Do you have a driving license? (yes/no): \")\n",
    "\n",
    "# Using 'and' operator: Checking if a person is eligible to drive\n",
    "if age >= 18 and has_license == \"yes\":\n",
    "    print(\"You are eligible to drive.\")\n",
    "else:\n",
    "    print(\"You are not eligible to drive.\")"
   ]
  },
  {
   "cell_type": "code",
   "execution_count": 82,
   "id": "234801f2-d913-491d-8c6c-3f66a10f6738",
   "metadata": {},
   "outputs": [
    {
     "name": "stdin",
     "output_type": "stream",
     "text": [
      "Are you a student? (yes/no):  yes\n",
      "Are you a senior citizen? (yes/no):  no\n"
     ]
    },
    {
     "name": "stdout",
     "output_type": "stream",
     "text": [
      "You are eligible for a discount!\n"
     ]
    }
   ],
   "source": [
    "# Using 'or' operator: Checking if a person qualifies for a discount\n",
    "is_student = input(\"Are you a student? (yes/no): \")\n",
    "is_senior = input(\"Are you a senior citizen? (yes/no): \")\n",
    "\n",
    "if is_student == \"yes\" or is_senior == \"yes\":\n",
    "    print(\"You are eligible for a discount!\")\n",
    "else:\n",
    "    print(\"You are not eligible for a discount.\")"
   ]
  },
  {
   "cell_type": "code",
   "execution_count": 84,
   "id": "f0fb9115-f854-43db-b461-241f66c0d0b8",
   "metadata": {},
   "outputs": [
    {
     "name": "stdin",
     "output_type": "stream",
     "text": [
      "Are you banned from the system? (yes/no):  yes\n"
     ]
    },
    {
     "name": "stdout",
     "output_type": "stream",
     "text": [
      "Access denied.\n"
     ]
    }
   ],
   "source": [
    "# Using 'not' operator: Checking if a user is not banned\n",
    "is_banned = input(\"Are you banned from the system? (yes/no): \")\n",
    "\n",
    "if not is_banned == \"yes\":\n",
    "    print(\"You have access to the system.\")\n",
    "else:\n",
    "    print(\"Access denied.\")"
   ]
  },
  {
   "cell_type": "code",
   "execution_count": 1,
   "id": "740296d4-2a65-4b62-80af-1d37d33a3e5b",
   "metadata": {},
   "outputs": [
    {
     "name": "stdin",
     "output_type": "stream",
     "text": [
      "Enter a number:  98\n"
     ]
    },
    {
     "name": "stdout",
     "output_type": "stream",
     "text": [
      "Integer: 98\n",
      "Float: 98.0\n",
      "Boolean: True\n"
     ]
    }
   ],
   "source": [
    "#Q 9. Write a Python program to convert user input from string to integer, float, and boolean types.\n",
    "u_input = input(\"Enter a number: \")\n",
    "\n",
    "int_val = int(u_input)\n",
    "float_val = float(u_input)\n",
    "bool_val = bool(u_input)\n",
    "\n",
    "print(\"Integer:\", int_val)\n",
    "print(\"Float:\", float_val)\n",
    "print(\"Boolean:\", bool_val)"
   ]
  },
  {
   "cell_type": "code",
   "execution_count": 3,
   "id": "4b673436-0980-440f-8ba9-80c0ffeb87ed",
   "metadata": {},
   "outputs": [
    {
     "name": "stdout",
     "output_type": "stream",
     "text": [
      "List of integers: [1, 2, 3]\n"
     ]
    }
   ],
   "source": [
    "#Q 10. Write code to demonstrate type casting with list elements.\n",
    "str_list = [\"1\", \"2\", \"3\"]\n",
    "int_list = list(map(int, str_list))\n",
    "print(\"List of integers:\", int_list)"
   ]
  },
  {
   "cell_type": "code",
   "execution_count": null,
   "id": "3eeb86d1-d4c6-48a1-a4e6-71a9b22b7154",
   "metadata": {},
   "outputs": [],
   "source": []
  },
  {
   "cell_type": "code",
   "execution_count": 5,
   "id": "2a5e9bf3-7105-4568-b30c-f32c4368674e",
   "metadata": {},
   "outputs": [
    {
     "name": "stdin",
     "output_type": "stream",
     "text": [
      "Enter a number:  25\n"
     ]
    },
    {
     "name": "stdout",
     "output_type": "stream",
     "text": [
      "Positive\n"
     ]
    }
   ],
   "source": [
    "#Q 11. Write a program that checks if a number is positive, negative, or zero.\n",
    "num = float(input(\"Enter a number: \"))\n",
    "if num >0:\n",
    "    print(\"Positive\")\n",
    "elif num < 0:\n",
    "    print(\"Negative\")\n",
    "else:\n",
    "    print(\"Zero\")"
   ]
  },
  {
   "cell_type": "code",
   "execution_count": 7,
   "id": "64662b19-848c-422e-8834-ce9fe22b0f5e",
   "metadata": {},
   "outputs": [
    {
     "name": "stdout",
     "output_type": "stream",
     "text": [
      "1\n",
      "2\n",
      "3\n",
      "4\n",
      "5\n",
      "6\n",
      "7\n",
      "8\n",
      "9\n",
      "10\n"
     ]
    }
   ],
   "source": [
    "#Q 12.  Write a for loop to print numbers from 1 to 10.\n",
    "for i in range(1, 11):\n",
    "    print(i)"
   ]
  },
  {
   "cell_type": "code",
   "execution_count": 9,
   "id": "f8f2f5b2-8937-4c91-94e8-612f5c5cc634",
   "metadata": {},
   "outputs": [
    {
     "name": "stdout",
     "output_type": "stream",
     "text": [
      "Sum of even numbers from 1 to 50: 650\n"
     ]
    }
   ],
   "source": [
    "#Q13. Write a Python program to find the sum of all even numbers between 1 and 50.\n",
    "total = 0\n",
    "for i in range(1, 51):\n",
    "    if i % 2 == 0:\n",
    "        total += i\n",
    "print(\"Sum of even numbers from 1 to 50:\", total)"
   ]
  },
  {
   "cell_type": "code",
   "execution_count": 11,
   "id": "a127c3c9-51dd-4e9f-a3af-62ff91dbea7c",
   "metadata": {},
   "outputs": [
    {
     "name": "stdin",
     "output_type": "stream",
     "text": [
      "Enter a string:  Mohit\n"
     ]
    },
    {
     "name": "stdout",
     "output_type": "stream",
     "text": [
      "Reversed string: tihoM\n"
     ]
    }
   ],
   "source": [
    "#Q14. Write a program to reverse a string using a while loop.\n",
    "string = input(\"Enter a string: \")\n",
    "reversed_string = \"\"\n",
    "i = len(string) - 1\n",
    "\n",
    "while i >= 0:\n",
    "    reversed_string += string[i]\n",
    "    i -= 1\n",
    "\n",
    "print(\"Reversed string:\", reversed_string)"
   ]
  },
  {
   "cell_type": "code",
   "execution_count": 71,
   "id": "dc75e7fe-0a01-4d04-8b99-1bf812139d98",
   "metadata": {},
   "outputs": [],
   "source": [
    "#Q15. Write a Python program to calculate the factorial of a number provided by the user using a while loop.\n",
    "# Get input from the user\n",
    "num = int(input(\"Enter a number to calculate its factorial: \"))\n",
    "\n",
    "# Initialize variables\n",
    "factorial = 1\n",
    "i = 1\n",
    "\n",
    "# Calculate factorial using a while loop\n",
    "while i <= num:\n",
    "    factorial *= i\n",
    "    i += 1\n",
    "\n",
    "print(f\"The factorial of {num} is: {factorial}\")"
   ]
  },
  {
   "cell_type": "code",
   "execution_count": null,
   "id": "a1a61bb9-f0bf-4865-9c9f-94c3c297e6ae",
   "metadata": {},
   "outputs": [],
   "source": []
  }
 ],
 "metadata": {
  "kernelspec": {
   "display_name": "Python [conda env:base] *",
   "language": "python",
   "name": "conda-base-py"
  },
  "language_info": {
   "codemirror_mode": {
    "name": "ipython",
    "version": 3
   },
   "file_extension": ".py",
   "mimetype": "text/x-python",
   "name": "python",
   "nbconvert_exporter": "python",
   "pygments_lexer": "ipython3",
   "version": "3.12.7"
  }
 },
 "nbformat": 4,
 "nbformat_minor": 5
}
